{
 "cells": [
  {
   "cell_type": "markdown",
   "metadata": {},
   "source": [
    "# Macroeconomía abierta en países emergentes"
   ]
  },
  {
   "cell_type": "markdown",
   "metadata": {},
   "source": [
    "## Tarea 1\n",
    "- La tarea se entrega 11/11 antes de las 15.30 hrs.\n",
    "- Vale como un control. \n",
    "- Si alguien quiere presentar sus resultados la próxima ayudantía tiene décimas (mismo sistema que para controles). "
   ]
  },
  {
   "cell_type": "markdown",
   "metadata": {},
   "source": [
    "### 1. Utilizando Python"
   ]
  },
  {
   "cell_type": "markdown",
   "metadata": {},
   "source": [
    "1. De la página del Banco Central descargue los datos mensuales de \"Índice IPC General\" empalmados. Descargue desde el 2018 a la fecha. Guarde el archivo en formato .xls (excel) o .csv. \n",
    "    1. Hint: Los datos se encuentran en la \"Base de Datos Estadísticos\". \n",
    "2. Desde jupyter, y utilizando pandas, importe el archivo descargdo y cree un dataframe llamado \"df\". \n",
    "3. Renombre la columna a \"IPC\" y  muestre los primeros 10 elementos del dataframe. \n",
    "4. Cree una lista vacía llamada \"list_df\". Utilizando \"for\" realice un loop que extraiga cada elemento de df y lo anexe a la lista. \n",
    "5. Cree una nueva lista llamada dif_ipc que tenga la variación porcentual (mensual) de los datos en \"list_df\".\n",
    "6. Cree un diccionario llamado dic_ipc que tenga como \"key\" el periodo y como \"value\" la variación porcentual obtenida en 5.\n",
    "7. Utilizando las listas o diccionarios creados, grafique la variación porcentual del IPC. El eje \"x\" debe tener el periodo y el eje \"y\" la variación. Agregue un título y debe ir sin leyenda. "
   ]
  },
  {
   "cell_type": "markdown",
   "metadata": {},
   "source": [
    "### 2. Dynare++"
   ]
  },
  {
   "cell_type": "markdown",
   "metadata": {},
   "source": [
    "Utilizando el archivo .mod de la Ayudantía 3: \n",
    "1. Modifique el valor de $\\theta$ a 0.01 y 0.99. Ejecute el archivo utilizando dynare++, guarde los resultados en un dataframe y grafique los IRF para los shocks monetarios y tecnológicos. Compare los resultados de $\\theta=0.01$ con $\\theta=0.99$ y el valor original $\\theta=2/3$, entregue una intuición de qué ocurre con $\\kappa$ y $\\lambda$ cuando se modifica $\\theta$ y por qué se modifican los IRF monetario y tecnológico. \n",
    "2. Modifique el valor de $\\sigma$ a 0.01, muestre los IRF de los shocks monetario y tecnológico. Explique por qué cambia con respecto al valor inicial. "
   ]
  }
 ],
 "metadata": {
  "kernelspec": {
   "display_name": "Python 3",
   "language": "python",
   "name": "python3"
  },
  "language_info": {
   "codemirror_mode": {
    "name": "ipython",
    "version": 3
   },
   "file_extension": ".py",
   "mimetype": "text/x-python",
   "name": "python",
   "nbconvert_exporter": "python",
   "pygments_lexer": "ipython3",
   "version": "3.7.6"
  }
 },
 "nbformat": 4,
 "nbformat_minor": 2
}
